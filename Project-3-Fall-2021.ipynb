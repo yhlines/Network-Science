{
 "cells": [
  {
   "cell_type": "markdown",
   "metadata": {},
   "source": [
    "# CS 5483 Network Science"
   ]
  },
  {
   "cell_type": "markdown",
   "metadata": {},
   "source": [
    "## Project 3 Fall 2021"
   ]
  },
  {
   "cell_type": "markdown",
   "metadata": {},
   "source": [
    "### Due October 15 at 11:59 pm"
   ]
  },
  {
   "cell_type": "code",
   "execution_count": 2,
   "metadata": {},
   "outputs": [],
   "source": [
    "# Required Header\n",
    "%matplotlib inline\n",
    "\n",
    "import matplotlib.pyplot as plt\n",
    "import networkx as nx"
   ]
  },
  {
   "cell_type": "markdown",
   "metadata": {},
   "source": [
    "#### Question 1\n",
    "\n",
    "a) Create a random undirected graph G with 40 nodes and probability 0.35"
   ]
  },
  {
   "cell_type": "code",
   "execution_count": null,
   "metadata": {},
   "outputs": [],
   "source": []
  },
  {
   "cell_type": "markdown",
   "metadata": {},
   "source": [
    "b) Compute Closeness Centrality two ways:\n",
    "\n",
    "    - Using Networkx Library\n",
    "    - Write a function to compute closeness centrality using the mean shortest path distances."
   ]
  },
  {
   "cell_type": "code",
   "execution_count": null,
   "metadata": {},
   "outputs": [],
   "source": []
  },
  {
   "cell_type": "markdown",
   "metadata": {},
   "source": [
    "c) Compute Eigen Vector Centrality for graph G.\n",
    "\n",
    "    - Using Networkx library.\n",
    "    - Write code to find the position of the largest eigenvalue and the eigenvectors of the graph"
   ]
  },
  {
   "cell_type": "code",
   "execution_count": null,
   "metadata": {},
   "outputs": [],
   "source": []
  },
  {
   "cell_type": "markdown",
   "metadata": {},
   "source": [
    "#### Question 2\n",
    "\n",
    "In this question you will read a graph from the edgelist file, the file consits of (u, v, w). Where (u, v) represents the edge, and w represents the weight of the edge."
   ]
  },
  {
   "cell_type": "code",
   "execution_count": 3,
   "metadata": {},
   "outputs": [
    {
     "data": {
      "text/plain": [
       "'\\nfb = read_graph(fileName)\\nn = len(fb)\\nm = len(fb.edges())\\nn, m\\n'"
      ]
     },
     "execution_count": 3,
     "metadata": {},
     "output_type": "execute_result"
    }
   ],
   "source": [
    "# Read unweighted graph\n",
    "import numpy as np\n",
    "import networkx as nx\n",
    "def read_graph(filename):\n",
    "    G = nx.Graph()\n",
    "    array = np.loadtxt(filename, dtype=int)\n",
    "    G.add_edges_from(array)\n",
    "    return G\n",
    "\n",
    "# Read weighted graph\n",
    "def read_graph_weighted(filename):\n",
    "    G = nx.Graph()\n",
    "    array = np.loadtxt(filename, dtype=int)\n",
    "    G.add_weighted_edges_from(array)\n",
    "    return G\n",
    "\n",
    "'''\n",
    "fb = read_graph(fileName)\n",
    "n = len(fb)\n",
    "m = len(fb.edges())\n",
    "n, m\n",
    "'''\n"
   ]
  },
  {
   "cell_type": "markdown",
   "metadata": {},
   "source": [
    "a). Compute all pair shortest path using the Floyd-Warshall algorithm mentioned in the class (powerpoint). (You may use networkx only for verification).\n",
    "\n",
    "    - Compare the time required to execute your algorithm with the networkx library\n",
    "    - Compute the algorithm for the graph (data.txt) as well as the karate graph from snap (https://networkrepository.com/soc-karate.php)\n",
    "    - Make sure to use .gz file to load the data, do not uncompress."
   ]
  },
  {
   "cell_type": "code",
   "execution_count": 34,
   "metadata": {},
   "outputs": [
    {
     "data": {
      "text/plain": [
       "<networkx.classes.graph.Graph at 0x7fe08f81a710>"
      ]
     },
     "execution_count": 34,
     "metadata": {},
     "output_type": "execute_result"
    }
   ],
   "source": []
  },
  {
   "cell_type": "markdown",
   "metadata": {},
   "source": [
    "b) Using the Ford-Fulkerson theorem, compute the Max-Flow for the graph \"data.txt\", from source = 0, and sink = 29"
   ]
  },
  {
   "cell_type": "code",
   "execution_count": null,
   "metadata": {},
   "outputs": [],
   "source": []
  }
 ],
 "metadata": {
  "kernelspec": {
   "display_name": "Python 3",
   "language": "python",
   "name": "python3"
  },
  "language_info": {
   "codemirror_mode": {
    "name": "ipython",
    "version": 3
   },
   "file_extension": ".py",
   "mimetype": "text/x-python",
   "name": "python",
   "nbconvert_exporter": "python",
   "pygments_lexer": "ipython3",
   "version": "3.7.0"
  }
 },
 "nbformat": 4,
 "nbformat_minor": 4
}
