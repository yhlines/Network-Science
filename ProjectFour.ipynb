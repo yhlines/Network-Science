{
  "nbformat": 4,
  "nbformat_minor": 0,
  "metadata": {
    "kernelspec": {
      "display_name": "Python 3",
      "language": "python",
      "name": "python3"
    },
    "language_info": {
      "codemirror_mode": {
        "name": "ipython",
        "version": 3
      },
      "file_extension": ".py",
      "mimetype": "text/x-python",
      "name": "python",
      "nbconvert_exporter": "python",
      "pygments_lexer": "ipython3",
      "version": "3.8.5"
    },
    "colab": {
      "name": "ProjectFour.ipynb",
      "provenance": [],
      "collapsed_sections": []
    }
  },
  "cells": [
    {
      "cell_type": "markdown",
      "metadata": {
        "id": "xMJvxlpZp-Ji"
      },
      "source": [
        "# CS 5483: Project 4"
      ]
    },
    {
      "cell_type": "markdown",
      "metadata": {
        "id": "QveQvvXdp-Jl"
      },
      "source": [
        "#### Question 1: Module 7 -- Real world networks and features"
      ]
    },
    {
      "cell_type": "markdown",
      "metadata": {
        "id": "8EupZo6Ep-Jl"
      },
      "source": [
        "1.a) Read the graph from https://networkrepository.com/power-US-Grid.php"
      ]
    },
    {
      "cell_type": "code",
      "metadata": {
        "id": "NSnmRFEyp-Jm"
      },
      "source": [
        "%matplotlib inline\n",
        "\n",
        "import matplotlib.pyplot as plt\n",
        "import networkx as nx\n",
        "import numpy as np\n",
        "import gzip\n",
        "import scipy.sparse as sparse\n",
        "import scipy.io as sio\n",
        "import scipy.stats as stats"
      ],
      "execution_count": 6,
      "outputs": []
    },
    {
      "cell_type": "code",
      "metadata": {
        "id": "OfMdw7sSrW9e"
      },
      "source": [
        "re = open (\"power-US-Grid.mtx\", 'rb')\n",
        "\n",
        "G = sio.mmread(re)\n",
        "#G = nx.read_edgelist(re, nodetype=int)  \n",
        "re.close()"
      ],
      "execution_count": 7,
      "outputs": []
    },
    {
      "cell_type": "code",
      "metadata": {
        "id": "646B0QLcqIRd"
      },
      "source": [
        "G_adj = G.todense() #Make an adjancent matrix for the edgelist"
      ],
      "execution_count": 28,
      "outputs": []
    },
    {
      "cell_type": "markdown",
      "metadata": {
        "id": "JOVjk-vZp-Jn"
      },
      "source": [
        "1.b) For the given graph compute the degree distribution. (Do not use networkx library to compute the distribution)"
      ]
    },
    {
      "cell_type": "code",
      "metadata": {
        "id": "NmLF6tmzp-Jn",
        "colab": {
          "base_uri": "https://localhost:8080/"
        },
        "outputId": "988a0fec-b52c-49ae-8f91-84f90e20c493"
      },
      "source": [
        "n = len(G_adj)\n",
        "Unit = np.ones((n, 1)) # Make a matrix with one column with 1s\n",
        "Distr = G_adj*Unit # Multiple these matrix\n",
        "print(Distr) # Degree distribution for each nodes"
      ],
      "execution_count": 29,
      "outputs": [
        {
          "output_type": "stream",
          "name": "stdout",
          "text": [
            "[[4.]\n",
            " [1.]\n",
            " [1.]\n",
            " ...\n",
            " [2.]\n",
            " [2.]\n",
            " [3.]]\n"
          ]
        }
      ]
    },
    {
      "cell_type": "markdown",
      "metadata": {
        "id": "6luMcGAap-Jn"
      },
      "source": [
        "1.c) Plot a log-log graph of the distribution where x-axis represents log of degrees, and the y-axis represents log of frequency of the degrees. Does the plot show a linear decay?"
      ]
    },
    {
      "cell_type": "code",
      "metadata": {
        "id": "-6xg_iSnp-Jo",
        "colab": {
          "base_uri": "https://localhost:8080/",
          "height": 269
        },
        "outputId": "0d225af7-71ea-420e-9750-d4e692390a7f"
      },
      "source": [
        "counter = np.zeros(n)\n",
        "for element in Distr:\n",
        "  counter[int(element)-1] += 1\n",
        "# Next part is to find out what the range of the graph should go.\n",
        "length_x = 0\n",
        "for i in range(0, n):\n",
        "  if counter[i] != 0:\n",
        "    length_x = i   \n",
        "# The value length_x means there is no nodes have more than length_x+1 degrees.\n",
        "plt.loglog(counter[0:length_x])\n",
        "plt.show()\n",
        "# The highest degree is not that large so the graph is not too staight like a linear."
      ],
      "execution_count": 53,
      "outputs": [
        {
          "output_type": "display_data",
          "data": {
            "image/png": "[encoded data removed]",
            "text/plain": [
              "<Figure size 432x288 with 1 Axes>"
            ]
          },
          "metadata": {
            "needs_background": "light"
          }
        }
      ]
    },
    {
      "cell_type": "markdown",
      "metadata": {
        "id": "sH9uh7xOp-Jo"
      },
      "source": [
        "1.d) Determine alpha in the power law distribution using the equation\n",
        "\n",
        " alpha = 1 + n/(summation ln 𝑥_𝑖/(𝑥_min−1/2))\n",
        " - i ranges from 0 to number of degrees\n",
        " - where n in number of degrees\n",
        " - x_i is each degree in the degree array\n",
        " - x_min is the minimum degree"
      ]
    },
    {
      "cell_type": "code",
      "metadata": {
        "id": "FJyTxd2xp-Jp",
        "colab": {
          "base_uri": "https://localhost:8080/"
        },
        "outputId": "a8aa73f3-5fca-4d13-c9ac-027fc2a67f0a"
      },
      "source": [
        "alpha = 0\n",
        "minK = int(min(Distr))\n",
        "for i in range(0, n):\n",
        "  alpha = alpha + np.log(int(Distr[i])/(minK-0.5))\n",
        "alpha = 1 + n/(alpha)\n",
        "print(alpha)"
      ],
      "execution_count": 65,
      "outputs": [
        {
          "output_type": "stream",
          "name": "stdout",
          "text": [
            "1.6688002974080596\n"
          ]
        }
      ]
    },
    {
      "cell_type": "markdown",
      "metadata": {
        "id": "lP6O4d8cp-Jp"
      },
      "source": [
        "#### Question 2: Module 8 -- Random graphs\n",
        "*You may use networkx library*"
      ]
    },
    {
      "cell_type": "markdown",
      "metadata": {
        "id": "HwkoeEaIp-Jp"
      },
      "source": [
        "2.a) Construct 5 random undirected graph with n = 1000, and probability 0.01, 0.1, 0.2, 0.3, 0.5 as G1, G2, G3, G4, and G5. Then find the size of the largest connected component. \n",
        "\n",
        "**Note : Use different seed value for each graph.**"
      ]
    },
    {
      "cell_type": "code",
      "metadata": {
        "id": "CjhF3OWsp-Jq"
      },
      "source": [
        "G1 = nx.erdos_renyi_graph(1000,0.01)\n",
        "G2 = nx.erdos_renyi_graph(1000,0.1)\n",
        "G3 = nx.erdos_renyi_graph(1000,0.2)\n",
        "G4 = nx.erdos_renyi_graph(1000,0.3)\n",
        "G5 = nx.erdos_renyi_graph(1000,0.5)"
      ],
      "execution_count": 107,
      "outputs": []
    },
    {
      "cell_type": "code",
      "metadata": {
        "id": "wJ-ppnTIgx_0"
      },
      "source": [
        "components1 = nx.connected_components(G1)\n",
        "components2 = nx.connected_components(G2)\n",
        "components3 = nx.connected_components(G3)\n",
        "components4 = nx.connected_components(G4)\n",
        "components5 = nx.connected_components(G5)"
      ],
      "execution_count": 108,
      "outputs": []
    },
    {
      "cell_type": "code",
      "metadata": {
        "colab": {
          "base_uri": "https://localhost:8080/"
        },
        "id": "YNc_MSHzhARm",
        "outputId": "825d4781-396a-47ac-bfe9-006cd64467b7"
      },
      "source": [
        "size1 = []\n",
        "for component in components1:\n",
        "    size1.append(f'{len(component)}')\n",
        "for component in components2:\n",
        "    size1.append(f'{len(component)}')\n",
        "for component in components3:\n",
        "    size1.append(f'{len(component)}')\n",
        "for component in components4:\n",
        "    size1.append(f'{len(component)}')\n",
        "for component in components5:\n",
        "    size1.append(f'{len(component)}')\n",
        "print(size1)"
      ],
      "execution_count": 109,
      "outputs": [
        {
          "output_type": "stream",
          "name": "stdout",
          "text": [
            "['1000', '1000', '1000', '1000', '1000']\n"
          ]
        }
      ]
    },
    {
      "cell_type": "markdown",
      "metadata": {
        "id": "8HOeow2okima"
      },
      "source": [
        "So the largest size of all of them is 1000 which means they only have one component."
      ]
    },
    {
      "cell_type": "markdown",
      "metadata": {
        "id": "tsupG7otp-Jq"
      },
      "source": [
        "2.b) Plot the following\n",
        "\n",
        "- x-axis probablity\n",
        "- y-axis largest connected component\n",
        "\n",
        "and infer what does increase in probablity mean with respect to the largest connected component\n"
      ]
    },
    {
      "cell_type": "code",
      "metadata": {
        "colab": {
          "base_uri": "https://localhost:8080/",
          "height": 279
        },
        "id": "wiJOlGiTJdhx",
        "outputId": "b5061e60-54e7-40c5-f5da-8abbcbfb8e27"
      },
      "source": [
        "#To plot the probablity graph, the previous graphes doesn't have enought factors\n",
        "x = [0.0001, 0.0005, 0.001, 0.0012, 0.0014, 0.0016, 0.0018, 0.002, 0.01, 0.02, 0.05, 0.1]\n",
        "y = []      # largest connected component\n",
        "ad = []      # average degree\n",
        "avSmall = []    # average size of small components\n",
        "for i in range(0, 12):\n",
        "  n = -1\n",
        "  G = nx.erdos_renyi_graph(1000,x[i])\n",
        "  componentsN = nx.connected_components(G)\n",
        "  maxComponent = 0\n",
        "  for component in componentsN:\n",
        "    n += 1\n",
        "    if len(component) > maxComponent:\n",
        "      maxComponent = len(component)\n",
        "  y.append(maxComponent)  \n",
        "  if n == 0:\n",
        "    avSmall.append(0)\n",
        "  else:\n",
        "    avSmall.append((1000 - maxComponent)/n) # calculate the average size\n",
        "  degree_sequence = [d for n, d in G.degree()]\n",
        "  ave = sum(degree_sequence)/1000\n",
        "  ad.append(ave)\n",
        "plt.plot(x, y)\n",
        "plt.xlabel('Probablity')\n",
        "plt.ylabel('Largest connected component')\n",
        "plt.show()"
      ],
      "execution_count": 127,
      "outputs": [
        {
          "output_type": "display_data",
          "data": {
            "image/png": "[encoded data removed]",
            "text/plain": [
              "<Figure size 432x288 with 1 Axes>"
            ]
          },
          "metadata": {
            "needs_background": "light"
          }
        }
      ]
    },
    {
      "cell_type": "markdown",
      "metadata": {
        "id": "jaTdxhffp-Jq"
      },
      "source": [
        "2.c) For the same set of graphs, compute the average degree and plot probablity on the x-axis, and average degree on the y-axis\n"
      ]
    },
    {
      "cell_type": "code",
      "metadata": {
        "id": "5k1LHygmp-Jr",
        "colab": {
          "base_uri": "https://localhost:8080/",
          "height": 279
        },
        "outputId": "a8cebd4c-117c-45f8-86d5-595f5b638b07"
      },
      "source": [
        "plt.plot(x, ad)\n",
        "plt.xlabel('Probablity')\n",
        "plt.ylabel('Average degree')\n",
        "plt.show()"
      ],
      "execution_count": 128,
      "outputs": [
        {
          "output_type": "display_data",
          "data": {
            "image/png": "[encoded data removed]",
            "text/plain": [
              "<Figure size 432x288 with 1 Axes>"
            ]
          },
          "metadata": {
            "needs_background": "light"
          }
        }
      ]
    },
    {
      "cell_type": "markdown",
      "metadata": {
        "id": "7Fvif72Wp-Jr"
      },
      "source": [
        "2.d) Finally, compute the average size of the small component for each graph G1, ..., G5"
      ]
    },
    {
      "cell_type": "code",
      "metadata": {
        "id": "uTcIGyYup-Jr",
        "colab": {
          "base_uri": "https://localhost:8080/",
          "height": 279
        },
        "outputId": "a10f9309-0952-4125-edf5-630611c04fd6"
      },
      "source": [
        "# Since there is NO small compoent for each G1 to G5, x will be use instead\n",
        "plt.plot(x, avSmall)\n",
        "plt.xlabel('Probablity')\n",
        "plt.ylabel('Average size of small component')\n",
        "plt.show()"
      ],
      "execution_count": 131,
      "outputs": [
        {
          "output_type": "display_data",
          "data": {
            "image/png": "[encoded data removed]",
            "text/plain": [
              "<Figure size 432x288 with 1 Axes>"
            ]
          },
          "metadata": {
            "needs_background": "light"
          }
        }
      ]
    },
    {
      "cell_type": "markdown",
      "metadata": {
        "id": "VoYwUV-EqY8y"
      },
      "source": [
        "@inproceedings{nr-aaai15,\n",
        "      title = {The Network Data Repository with Interactive Graph Analytics and Visualization},\n",
        "      author={Ryan A. Rossi and Nesreen K. Ahmed},\n",
        "      booktitle = {Proceedings of the Twenty-Ninth AAAI Conference on Artificial Intelligence},\n",
        "      url={http://networkrepository.com},\n",
        "      year={2015}\n",
        "  }"
      ]
    }
  ]
}